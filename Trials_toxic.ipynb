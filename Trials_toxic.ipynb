{
  "cells": [
    {
      "cell_type": "markdown",
      "metadata": {
        "id": "view-in-github",
        "colab_type": "text"
      },
      "source": [
        "<a href=\"https://colab.research.google.com/github/Laxmanlee/Toxicity_pred_DM-ML/blob/main/Trials_toxic.ipynb\" target=\"_parent\"><img src=\"https://colab.research.google.com/assets/colab-badge.svg\" alt=\"Open In Colab\"/></a>"
      ]
    },
    {
      "cell_type": "code",
      "execution_count": null,
      "metadata": {
        "id": "I4zHeV7kxCx_"
      },
      "outputs": [],
      "source": [
        "pip install RDKit\n"
      ]
    },
    {
      "cell_type": "code",
      "source": [
        "pip install xgboost"
      ],
      "metadata": {
        "id": "4geKC9eTWYig"
      },
      "execution_count": null,
      "outputs": []
    },
    {
      "cell_type": "code",
      "source": [
        "pip install catboost"
      ],
      "metadata": {
        "id": "VdO-WLi85NVw"
      },
      "execution_count": null,
      "outputs": []
    },
    {
      "cell_type": "code",
      "execution_count": null,
      "metadata": {
        "id": "GIfLnTgekKez"
      },
      "outputs": [],
      "source": [
        "from rdkit.Chem import Descriptors\n",
        "\n",
        "for name,function in Descriptors.descList:\n",
        "  print(name, function)\n",
        "\n",
        "\n",
        "# The choice of descriptors depends on the specific toxicity endpoint of interest, \n",
        "# as different types of toxicity may be better predicted by different sets of descriptors. \n",
        "# However, some commonly used RDKit descriptors for predicting toxicity include molecular weight, number of rotatable bonds, LogP, \n",
        "# and a variety of topological, geometric, and electronic descriptors. It's important to note that while descriptors can provide valuable\n",
        "#  information, they may not be sufficient on their own to accurately predict toxicity, and other factors such as data quality, model selection,\n",
        "#  and external validation should also be considered.\n",
        "\n"
      ]
    },
    {
      "cell_type": "code",
      "source": [
        "# Import required libraries\n",
        "import pandas as pd\n",
        "import hashlib\n",
        "from rdkit import Chem\n",
        "from rdkit.Chem import Descriptors\n",
        "from catboost import CatBoostClassifier\n",
        "\n",
        "\n",
        "\n",
        "# Load the training and test data\n",
        "train = pd.read_csv(\"https://raw.githubusercontent.com/Laxmanlee/Toxicity_pred_DM-ML/main/train_II.csv\")\n",
        "test = pd.read_csv(\"https://raw.githubusercontent.com/Laxmanlee/Toxicity_pred_DM-ML/main/test_II.csv\")\n",
        "\n",
        "# Split the 'Id' column into 'chemical_id' and 'assay_id' columns\n",
        "train[['chemical_id', 'assay_id']] = train['Id'].apply(lambda x: pd.Series(str(x).split(\";\")))\n",
        "test[['chemical_id', 'assay_id']] = test['x'].apply(lambda x: pd.Series(str(x).split(\";\")))\n",
        "\n",
        "# Convert the SMILES strings into molecule objects\n",
        "train['Molecule'] = train['chemical_id'].apply(lambda x: Chem.MolFromSmiles(x))\n",
        "test['Molecule'] = test['chemical_id'].apply(lambda x: Chem.MolFromSmiles(x))\n",
        "\n",
        "# Drop rows with invalid SMILES strings\n",
        "train = train[train['Molecule'].notnull()]\n",
        "test = test[test['Molecule'].notnull()]\n",
        "\n",
        "\n",
        "\n",
        "\n",
        "# Train and test the features for the model\n",
        "train['MolLogP'] = train['Molecule'].apply(lambda x: Descriptors.MolLogP(x))\n",
        "train['TPSA'] = train['Molecule'].apply(lambda x: Descriptors.TPSA(x))\n",
        "train['Chi2v'] = train['Molecule'].apply(lambda x: Descriptors.Chi2v(x))\n",
        "train['MolMR'] = train['Molecule'].apply(lambda x: Descriptors.MolMR(x))\n",
        "train['Chi1v'] = train['Molecule'].apply(lambda x: Descriptors.Chi1v(x))\n",
        "train['Chi3v'] = train['Molecule'].apply(lambda x: Descriptors.Chi3v(x))\n",
        "train['fr_benzene'] = train['Molecule'].apply(lambda x: Descriptors.fr_benzene(x))\n",
        "train['Chi4v'] = train['Molecule'].apply(lambda x: Descriptors.Chi4v(x))\n",
        "\n",
        "\n",
        "\n",
        "\n",
        "test['MolLogP'] = test['Molecule'].apply(lambda x: Descriptors.MolLogP(x))\n",
        "test['TPSA'] = test['Molecule'].apply(lambda x: Descriptors.TPSA(x))\n",
        "test['Chi2v'] = test['Molecule'].apply(lambda x: Descriptors.Chi2v(x))\n",
        "test['MolMR'] = test['Molecule'].apply(lambda x: Descriptors.MolMR(x))\n",
        "test['Chi1v'] = test['Molecule'].apply(lambda x: Descriptors.Chi1v(x))\n",
        "test['Chi3v'] = test['Molecule'].apply(lambda x: Descriptors.Chi3v(x))\n",
        "test['fr_benzene'] = test['Molecule'].apply(lambda x: Descriptors.fr_benzene(x))\n",
        "test['Chi4v'] = test['Molecule'].apply(lambda x: Descriptors.Chi4v(x))\n",
        "\n",
        "\n",
        "\n",
        "\n",
        "# Gradient boosting classifier\n",
        "classifier = CatBoostClassifier(n_estimators=1000, learning_rate=0.3, max_depth=10, subsample=0.75,random_state=42)\n",
        "\n",
        "# Train the model based on the selected features\n",
        "classifier.fit(train[['assay_id','MolLogP','TPSA','Chi2v','MolMR','Chi1v','Chi3v','fr_benzene','Chi4v']],train['Expected'])\n",
        "\n",
        "#Predict the outcomes for the test set\n",
        "test_pred = classifier.predict(test[['assay_id','MolLogP','TPSA','Chi2v','MolMR','Chi1v','Chi3v','fr_benzene','Chi4v']])\n",
        "\n",
        "#Store the predictions in a data frame\n",
        "test_predictions = pd.DataFrame({'Id': test['x'], 'Predicted': test_pred})\n",
        "\n",
        "# print(test.head())\n",
        "#Write the predictions to a csv file\n",
        "test_predictions.to_csv('predictions.csv', index=False)"
      ],
      "metadata": {
        "id": "oSzetO3Y6Ouw",
        "colab": {
          "base_uri": "https://localhost:8080/"
        },
        "outputId": "67dee896-8c60-4364-ad5d-ccf8322682af"
      },
      "execution_count": null,
      "outputs": [
        {
          "output_type": "stream",
          "name": "stderr",
          "text": [
            "[01:46:32] Explicit valence for atom # 1 Si, 8, is greater than permitted\n",
            "[01:46:34] Explicit valence for atom # 1 Si, 8, is greater than permitted\n",
            "[01:46:35] Explicit valence for atom # 1 Si, 8, is greater than permitted\n"
          ]
        }
      ]
    },
    {
      "cell_type": "code",
      "execution_count": null,
      "metadata": {
        "id": "U9rQQKbM7_rY"
      },
      "outputs": [],
      "source": [
        "# Using cross-validation for internal evaluation\n",
        "\n",
        "# import the required libraries\n",
        "import pandas as pd\n",
        "import hashlib\n",
        "from rdkit import Chem\n",
        "from rdkit.Chem import Descriptors\n",
        "from sklearn.model_selection import KFold\n",
        "from sklearn.metrics import f1_score, precision_score, recall_score\n",
        "from catboost import CatBoostClassifier\n",
        "\n",
        "\n",
        "# Load the data\n",
        "data = pd.read_csv(\"https://raw.githubusercontent.com/Laxmanlee/Toxicity_pred_DM-ML/main/train_II.csv\")\n",
        "\n",
        "# Split the 'Id' column into 'chemical_id' and 'assay_id' columns\n",
        "data[['chemical_id', 'assay_id']] = data['Id'].apply(lambda x: pd.Series(str(x).split(\";\")))\n",
        "\n",
        "# Convert the SMILES strings into molecule objects\n",
        "data['Molecule'] = data['chemical_id'].apply(lambda x: Chem.MolFromSmiles(x))\n",
        "\n",
        "# Drop rows with invalid SMILES strings\n",
        "data = data[data['Molecule'].notnull()]\n",
        "\n",
        "# Create new features based on the molecule data\n",
        "\n",
        "data['MolLogP'] = data['Molecule'].apply(lambda x: Descriptors.MolLogP(x))\n",
        "data['Chi1v'] = data['Molecule'].apply(lambda x: Descriptors.Chi1v(x))\n",
        "data['Chi2v'] = data['Molecule'].apply(lambda x: Descriptors.Chi2v(x))\n",
        "data['Chi3v'] = data['Molecule'].apply(lambda x: Descriptors.Chi3v(x))\n",
        "data['Chi4v'] = data['Molecule'].apply(lambda x: Descriptors.Chi4v(x))\n",
        "data['MolMR'] = data['Molecule'].apply(lambda x: Descriptors.MolMR(x))\n",
        "data['TPSA'] = data['Molecule'].apply(lambda x: Descriptors.TPSA(x))\n",
        "data['fr_benzene'] = data['Molecule'].apply(lambda x: Descriptors.fr_benzene(x))\n",
        "\n",
        "\n",
        "# select features and target labels\n",
        "features = data[['assay_id','MolLogP','TPSA','Chi2v','MolMR','Chi1v','Chi3v','fr_benzene','Chi4v']]\n",
        "labels = data['Expected']\n",
        "\n",
        "# Set up the k-fold cross-validation\n",
        "k = 5\n",
        "kf = KFold(n_splits=k, shuffle=True, random_state=42)\n",
        "\n",
        "# Train and evaluate the model using k-fold cross-validation\n",
        "accuracies = []\n",
        "for train_index, test_index in kf.split(features):\n",
        "    # Split data into training and test sets\n",
        "    X_train, X_test = features.iloc[train_index], features.iloc[test_index]\n",
        "    y_train, y_test = labels.iloc[train_index], labels.iloc[test_index]\n",
        "\n",
        "\n",
        "\n",
        "    # Create CatBoost classifier object and fit on the training data\n",
        "    classifier = CatBoostClassifier(n_estimators=1000, learning_rate=0.3, max_depth=10, subsample=0.75,random_state=42)\n",
        "    classifier.fit(X_train, y_train)\n",
        "\n",
        "    # Predict on the test set and evaluate the model\n",
        "    y_pred = classifier.predict(X_test)\n",
        "    accuracy = sum(y_pred == y_test) / len(y_test)\n",
        "    accuracies.append(accuracy)\n",
        "\n",
        "# Compute the mean accuracy across all folds\n",
        "mean_accuracy = sum(accuracies) / k\n",
        "print(f\"Mean accuracy: {mean_accuracy}\")\n",
        "\n",
        "# Calculate F1 score for the test set\n",
        "print(\"F1 Score:\",f1_score(y_test, y_pred))\n",
        "\n",
        "\n",
        "\n"
      ]
    }
  ],
  "metadata": {
    "colab": {
      "provenance": [],
      "authorship_tag": "ABX9TyPdfgThBDEgSD4v5a4iWbDG",
      "include_colab_link": true
    },
    "kernelspec": {
      "display_name": "Python 3",
      "name": "python3"
    },
    "language_info": {
      "name": "python"
    }
  },
  "nbformat": 4,
  "nbformat_minor": 0
}